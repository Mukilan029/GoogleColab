{
  "nbformat": 4,
  "nbformat_minor": 0,
  "metadata": {
    "colab": {
      "provenance": []
    },
    "kernelspec": {
      "name": "python3",
      "display_name": "Python 3"
    },
    "language_info": {
      "name": "python"
    }
  },
  "cells": [
    {
      "cell_type": "code",
      "execution_count": 1,
      "metadata": {
        "colab": {
          "base_uri": "https://localhost:8080/"
        },
        "id": "4iDCyDxWFdyg",
        "outputId": "313111fa-ad1a-4859-d4ea-9d975b41bc5b"
      },
      "outputs": [
        {
          "output_type": "stream",
          "name": "stdout",
          "text": [
            "KNN Finance Dataset Accuracy: 82.76%\n"
          ]
        }
      ],
      "source": [
        "import pandas as pd\n",
        "from sklearn.model_selection import train_test_split\n",
        "from sklearn.preprocessing import LabelEncoder, StandardScaler\n",
        "from sklearn.neighbors import KNeighborsClassifier\n",
        "from sklearn.metrics import accuracy_score\n",
        "\n",
        "# Load dataset\n",
        "# The original URL was incorrect and resulted in a 404 error.\n",
        "# Updated to a valid URL for the loan dataset.\n",
        "url = \"https://raw.githubusercontent.com/dphi-official/Datasets/master/Loan_Data/loan_train.csv\"\n",
        "df = pd.read_csv(url)\n",
        "\n",
        "# Drop columns that are not useful\n",
        "df = df[['ApplicantIncome', 'LoanAmount', 'Credit_History', 'Education', 'Married', 'Loan_Status']]\n",
        "df.dropna(inplace=True)\n",
        "\n",
        "# Encode categorical features\n",
        "label_encoders = {}\n",
        "for col in ['Education', 'Married', 'Loan_Status']:\n",
        "    le = LabelEncoder()\n",
        "    df[col] = le.fit_transform(df[col])\n",
        "    label_encoders[col] = le\n",
        "\n",
        "# Features and target\n",
        "X = df[['ApplicantIncome', 'LoanAmount', 'Credit_History', 'Education', 'Married']]\n",
        "y = df['Loan_Status']\n",
        "\n",
        "# Train-test split\n",
        "X_train, X_test, y_train, y_test = train_test_split(X, y, test_size=0.2, random_state=42)\n",
        "\n",
        "# Scale the features (important for KNN)\n",
        "scaler = StandardScaler()\n",
        "X_train = scaler.fit_transform(X_train)\n",
        "X_test = scaler.transform(X_test)\n",
        "\n",
        "# KNN model\n",
        "knn = KNeighborsClassifier(n_neighbors=5)\n",
        "knn.fit(X_train, y_train)\n",
        "\n",
        "# Predict and evaluate\n",
        "y_pred = knn.predict(X_test)\n",
        "accuracy = accuracy_score(y_test, y_pred)\n",
        "print(f\"KNN Finance Dataset Accuracy: {accuracy * 100:.2f}%\")"
      ]
    }
  ]
}